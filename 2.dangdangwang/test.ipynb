{
 "cells": [
  {
   "cell_type": "code",
   "execution_count": 3,
   "metadata": {},
   "outputs": [],
   "source": [
    "import requests\n",
    "import re\n",
    "resp=requests.get(\"http://bang.dangdang.com/books/fivestars/01.00.00.00.00.00-recent30-0-0-1-1\")\n"
   ]
  },
  {
   "cell_type": "code",
   "execution_count": 4,
   "metadata": {},
   "outputs": [
    {
     "data": {
      "text/plain": [
       "<Response [200]>"
      ]
     },
     "execution_count": 4,
     "metadata": {},
     "output_type": "execute_result"
    }
   ],
   "source": [
    "resp"
   ]
  },
  {
   "cell_type": "code",
   "execution_count": 5,
   "metadata": {},
   "outputs": [],
   "source": [
    "from bs4 import BeautifulSoup as BS\n",
    "soup=BS(resp.text,'lxml')\n",
    "item=soup.find_all('ul',class_='bang_list clearfix bang_list_mode')"
   ]
  },
  {
   "cell_type": "code",
   "execution_count": null,
   "metadata": {},
   "outputs": [],
   "source": [
    "item"
   ]
  },
  {
   "cell_type": "code",
   "execution_count": 57,
   "metadata": {},
   "outputs": [
    {
     "data": {
      "text/plain": [
       "bs4.element.ResultSet"
      ]
     },
     "execution_count": 57,
     "metadata": {},
     "output_type": "execute_result"
    }
   ],
   "source": [
    "type(item)"
   ]
  },
  {
   "cell_type": "code",
   "execution_count": 9,
   "metadata": {},
   "outputs": [
    {
     "data": {
      "text/plain": [
       "20"
      ]
     },
     "execution_count": 9,
     "metadata": {},
     "output_type": "execute_result"
    }
   ],
   "source": [
    "item_=item[0]\n",
    "books=item_.find_all('li')\n",
    "len(books)"
   ]
  },
  {
   "cell_type": "code",
   "execution_count": 7,
   "metadata": {},
   "outputs": [],
   "source": [
    "divs=books[0].find_all('div')\n",
    "#divs\n",
    "#len(divs)"
   ]
  },
  {
   "cell_type": "code",
   "execution_count": 136,
   "metadata": {},
   "outputs": [
    {
     "data": {
      "text/plain": [
       "'32320次'"
      ]
     },
     "execution_count": 136,
     "metadata": {},
     "output_type": "execute_result"
    }
   ],
   "source": [
    "divs[6].span.string\n",
    "#div6=str(divs[6].span)\n",
    "#info6=re.findall('\\d+',div6)\n",
    "#five_stars_nums=int(info6[0])\n",
    "#five_stars_nums"
   ]
  },
  {
   "cell_type": "code",
   "execution_count": 135,
   "metadata": {},
   "outputs": [
    {
     "data": {
      "text/plain": [
       "'¥19.90'"
      ]
     },
     "execution_count": 135,
     "metadata": {},
     "output_type": "execute_result"
    }
   ],
   "source": [
    "divs[7].p.span.string"
   ]
  },
  {
   "cell_type": "code",
   "execution_count": 143,
   "metadata": {},
   "outputs": [
    {
     "data": {
      "text/plain": [
       "'慢一点也没关系（内卷时代的避坑指南）'"
      ]
     },
     "execution_count": 143,
     "metadata": {},
     "output_type": "execute_result"
    }
   ],
   "source": [
    "divs[1].a.img['alt']\n"
   ]
  },
  {
   "cell_type": "code",
   "execution_count": 145,
   "metadata": {},
   "outputs": [
    {
     "data": {
      "text/plain": [
       "'http://img3m6.ddimg.cn/3/11/29302716-1_l_17.jpg'"
      ]
     },
     "execution_count": 145,
     "metadata": {},
     "output_type": "execute_result"
    }
   ],
   "source": [
    "divs[1].a.img['src']"
   ]
  },
  {
   "cell_type": "code",
   "execution_count": 8,
   "metadata": {},
   "outputs": [
    {
     "data": {
      "text/plain": [
       "'[比利时]吕克・斯维宁 著,常江涵 许楚琪 译,酷威文化 出品'"
      ]
     },
     "execution_count": 8,
     "metadata": {},
     "output_type": "execute_result"
    }
   ],
   "source": [
    "divs[4].a['title']"
   ]
  },
  {
   "cell_type": "code",
   "execution_count": 158,
   "metadata": {},
   "outputs": [
    {
     "data": {
      "text/plain": [
       "'100%推荐'"
      ]
     },
     "execution_count": 158,
     "metadata": {},
     "output_type": "execute_result"
    }
   ],
   "source": [
    "divs[3].find_all('span')[2].string"
   ]
  },
  {
   "cell_type": "code",
   "execution_count": 137,
   "metadata": {},
   "outputs": [
    {
     "data": {
      "text/plain": [
       "'1.'"
      ]
     },
     "execution_count": 137,
     "metadata": {},
     "output_type": "execute_result"
    }
   ],
   "source": [
    "divs=books[0].find_all('div')\n",
    "#divs[0].string\n",
    "divs[0]['class']\n",
    "div=str(divs[0])\n",
    "info=re.findall('\\d+',div)\n",
    "int(info[0])"
   ]
  },
  {
   "cell_type": "markdown",
   "metadata": {},
   "source": [
    "test 2"
   ]
  },
  {
   "cell_type": "code",
   "execution_count": 14,
   "metadata": {},
   "outputs": [],
   "source": [
    "import requests\n",
    "import re\n",
    "from bs4 import BeautifulSoup as BS\n",
    "import json\n",
    "def get_parse(info):\n",
    "    soup=BS(info,'lxml')\n",
    "    item=soup.find_all('ul',class_='bang_list clearfix bang_list_mode')\n",
    "    item_=item[0]\n",
    "    books=item_.find_all('li')\n",
    "    book_list=[]\n",
    "    book_dict={}\n",
    "    i=0\n",
    "    while i<len(books):\n",
    "        divs=books[i].find_all('div')\n",
    "        #rank\n",
    "        \"\"\"\n",
    "        这个不能用string,不然会多一个点\n",
    "        \"\"\"\n",
    "        div0=str(divs[0])\n",
    "        info=re.findall('\\d+',div0)\n",
    "        rank=int(info[0])\n",
    "        #website\n",
    "        website=divs[1].a['href']\n",
    "        #five_stars_nums\n",
    "        \"\"\"\n",
    "        divs[6].span\n",
    "        div6=str(divs[6].span)\n",
    "        info6=re.findall('\\d+',div6)\n",
    "        five_stars_nums=int(info6[0])\n",
    "        感觉脑子瓦特了,居然没想到用string\n",
    "        \"\"\"\n",
    "        five_stars_nums=divs[6].span.string\n",
    "        #price\n",
    "        price=divs[7].p.span.string\n",
    "        #title\n",
    "        title=divs[1].a.img['alt']\n",
    "        #img\n",
    "        img=divs[1].a.img['src']\n",
    "        #author\n",
    "        #author=divs[4].a['title']\n",
    "        #re-rate\n",
    "        re_rate=divs[3].find_all('span')[2].string\n",
    "        book_dict.update({'rank':rank,'title':title,'img':img,'website':website,'re-rate':re_rate,'five-stars-nums':five_stars_nums,'price':price})\n",
    "        book_list.append(book_dict)\n",
    "        i+=1\n",
    "    return book_list"
   ]
  },
  {
   "cell_type": "code",
   "execution_count": 45,
   "metadata": {},
   "outputs": [],
   "source": [
    "url=\"http://bang.dangdang.com/books/fivestars/01.00.00.00.00.00-recent30-0-0-1-1\"\n",
    "response=requests.get(url)\n",
    "assert response.status_code==200\n",
    "info=response.text  #请求成功拿到源代码"
   ]
  },
  {
   "cell_type": "code",
   "execution_count": 46,
   "metadata": {},
   "outputs": [
    {
     "name": "stdout",
     "output_type": "stream",
     "text": [
      "{'rank': 1, 'title': '慢一点也没关系（内卷时代的避坑指南）', 'img': 'http://img3m6.ddimg.cn/3/11/29302716-1_l_17.jpg', 'website': 'http://product.dangdang.com/29302716.html', 're-rate': '100%推荐', 'five-stars-nums': '32320次', 'price': '¥19.90'}\n",
      "[{'rank': 1, 'title': '慢一点也没关系（内卷时代的避坑指南）', 'img': 'http://img3m6.ddimg.cn/3/11/29302716-1_l_17.jpg', 'website': 'http://product.dangdang.com/29302716.html', 're-rate': '100%推荐', 'five-stars-nums': '32320次', 'price': '¥19.90'}]\n",
      "{'rank': 2, 'title': '高尔基成长三部曲（童年、在人间、我的大学）', 'img': 'http://img3m4.ddimg.cn/77/13/27911444-1_l_11.jpg', 'website': 'http://product.dangdang.com/27911444.html', 're-rate': '100%推荐', 'five-stars-nums': '134899次', 'price': '¥42.10'}\n",
      "[{'rank': 1, 'title': '慢一点也没关系（内卷时代的避坑指南）', 'img': 'http://img3m6.ddimg.cn/3/11/29302716-1_l_17.jpg', 'website': 'http://product.dangdang.com/29302716.html', 're-rate': '100%推荐', 'five-stars-nums': '32320次', 'price': '¥19.90'}, {'rank': 2, 'title': '高尔基成长三部曲（童年、在人间、我的大学）', 'img': 'http://img3m4.ddimg.cn/77/13/27911444-1_l_11.jpg', 'website': 'http://product.dangdang.com/27911444.html', 're-rate': '100%推荐', 'five-stars-nums': '134899次', 'price': '¥42.10'}]\n",
      "{'rank': 3, 'title': '空间简史(与《时间简史》《人类简史》《未来简史》并称“四大简史”)', 'img': 'http://img3m1.ddimg.cn/86/2/25546541-1_l_13.jpg', 'website': 'http://product.dangdang.com/25546541.html', 're-rate': '100%推荐', 'five-stars-nums': '132379次', 'price': '¥18.50'}\n",
      "[{'rank': 1, 'title': '慢一点也没关系（内卷时代的避坑指南）', 'img': 'http://img3m6.ddimg.cn/3/11/29302716-1_l_17.jpg', 'website': 'http://product.dangdang.com/29302716.html', 're-rate': '100%推荐', 'five-stars-nums': '32320次', 'price': '¥19.90'}, {'rank': 2, 'title': '高尔基成长三部曲（童年、在人间、我的大学）', 'img': 'http://img3m4.ddimg.cn/77/13/27911444-1_l_11.jpg', 'website': 'http://product.dangdang.com/27911444.html', 're-rate': '100%推荐', 'five-stars-nums': '134899次', 'price': '¥42.10'}, {'rank': 3, 'title': '空间简史(与《时间简史》《人类简史》《未来简史》并称“四大简史”)', 'img': 'http://img3m1.ddimg.cn/86/2/25546541-1_l_13.jpg', 'website': 'http://product.dangdang.com/25546541.html', 're-rate': '100%推荐', 'five-stars-nums': '132379次', 'price': '¥18.50'}]\n",
      "{'rank': 4, 'title': '外婆出租中', 'img': 'http://img3m4.ddimg.cn/0/32/29276874-1_l_12.jpg', 'website': 'http://product.dangdang.com/29276874.html', 're-rate': '100%推荐', 'five-stars-nums': '32024次', 'price': '¥19.50'}\n",
      "[{'rank': 1, 'title': '慢一点也没关系（内卷时代的避坑指南）', 'img': 'http://img3m6.ddimg.cn/3/11/29302716-1_l_17.jpg', 'website': 'http://product.dangdang.com/29302716.html', 're-rate': '100%推荐', 'five-stars-nums': '32320次', 'price': '¥19.90'}, {'rank': 2, 'title': '高尔基成长三部曲（童年、在人间、我的大学）', 'img': 'http://img3m4.ddimg.cn/77/13/27911444-1_l_11.jpg', 'website': 'http://product.dangdang.com/27911444.html', 're-rate': '100%推荐', 'five-stars-nums': '134899次', 'price': '¥42.10'}, {'rank': 3, 'title': '空间简史(与《时间简史》《人类简史》《未来简史》并称“四大简史”)', 'img': 'http://img3m1.ddimg.cn/86/2/25546541-1_l_13.jpg', 'website': 'http://product.dangdang.com/25546541.html', 're-rate': '100%推荐', 'five-stars-nums': '132379次', 'price': '¥18.50'}, {'rank': 4, 'title': '外婆出租中', 'img': 'http://img3m4.ddimg.cn/0/32/29276874-1_l_12.jpg', 'website': 'http://product.dangdang.com/29276874.html', 're-rate': '100%推荐', 'five-stars-nums': '32024次', 'price': '¥19.50'}]\n",
      "{'rank': 5, 'title': '男孩的学习力', 'img': 'http://img3m6.ddimg.cn/38/25/28541936-1_l_9.jpg', 'website': 'http://product.dangdang.com/28541936.html', 're-rate': '100%推荐', 'five-stars-nums': '123240次', 'price': '¥19.90'}\n",
      "[{'rank': 1, 'title': '慢一点也没关系（内卷时代的避坑指南）', 'img': 'http://img3m6.ddimg.cn/3/11/29302716-1_l_17.jpg', 'website': 'http://product.dangdang.com/29302716.html', 're-rate': '100%推荐', 'five-stars-nums': '32320次', 'price': '¥19.90'}, {'rank': 2, 'title': '高尔基成长三部曲（童年、在人间、我的大学）', 'img': 'http://img3m4.ddimg.cn/77/13/27911444-1_l_11.jpg', 'website': 'http://product.dangdang.com/27911444.html', 're-rate': '100%推荐', 'five-stars-nums': '134899次', 'price': '¥42.10'}, {'rank': 3, 'title': '空间简史(与《时间简史》《人类简史》《未来简史》并称“四大简史”)', 'img': 'http://img3m1.ddimg.cn/86/2/25546541-1_l_13.jpg', 'website': 'http://product.dangdang.com/25546541.html', 're-rate': '100%推荐', 'five-stars-nums': '132379次', 'price': '¥18.50'}, {'rank': 4, 'title': '外婆出租中', 'img': 'http://img3m4.ddimg.cn/0/32/29276874-1_l_12.jpg', 'website': 'http://product.dangdang.com/29276874.html', 're-rate': '100%推荐', 'five-stars-nums': '32024次', 'price': '¥19.50'}, {'rank': 5, 'title': '男孩的学习力', 'img': 'http://img3m6.ddimg.cn/38/25/28541936-1_l_9.jpg', 'website': 'http://product.dangdang.com/28541936.html', 're-rate': '100%推荐', 'five-stars-nums': '123240次', 'price': '¥19.90'}]\n",
      "{'rank': 6, 'title': '假如给我三天光明', 'img': 'http://img3m8.ddimg.cn/73/28/27898768-1_l_4.jpg', 'website': 'http://product.dangdang.com/27898768.html', 're-rate': '100%推荐', 'five-stars-nums': '22947次', 'price': '¥15.50'}\n",
      "[{'rank': 1, 'title': '慢一点也没关系（内卷时代的避坑指南）', 'img': 'http://img3m6.ddimg.cn/3/11/29302716-1_l_17.jpg', 'website': 'http://product.dangdang.com/29302716.html', 're-rate': '100%推荐', 'five-stars-nums': '32320次', 'price': '¥19.90'}, {'rank': 2, 'title': '高尔基成长三部曲（童年、在人间、我的大学）', 'img': 'http://img3m4.ddimg.cn/77/13/27911444-1_l_11.jpg', 'website': 'http://product.dangdang.com/27911444.html', 're-rate': '100%推荐', 'five-stars-nums': '134899次', 'price': '¥42.10'}, {'rank': 3, 'title': '空间简史(与《时间简史》《人类简史》《未来简史》并称“四大简史”)', 'img': 'http://img3m1.ddimg.cn/86/2/25546541-1_l_13.jpg', 'website': 'http://product.dangdang.com/25546541.html', 're-rate': '100%推荐', 'five-stars-nums': '132379次', 'price': '¥18.50'}, {'rank': 4, 'title': '外婆出租中', 'img': 'http://img3m4.ddimg.cn/0/32/29276874-1_l_12.jpg', 'website': 'http://product.dangdang.com/29276874.html', 're-rate': '100%推荐', 'five-stars-nums': '32024次', 'price': '¥19.50'}, {'rank': 5, 'title': '男孩的学习力', 'img': 'http://img3m6.ddimg.cn/38/25/28541936-1_l_9.jpg', 'website': 'http://product.dangdang.com/28541936.html', 're-rate': '100%推荐', 'five-stars-nums': '123240次', 'price': '¥19.90'}, {'rank': 6, 'title': '假如给我三天光明', 'img': 'http://img3m8.ddimg.cn/73/28/27898768-1_l_4.jpg', 'website': 'http://product.dangdang.com/27898768.html', 're-rate': '100%推荐', 'five-stars-nums': '22947次', 'price': '¥15.50'}]\n",
      "{'rank': 7, 'title': '傅雷家书', 'img': 'http://img3m5.ddimg.cn/36/13/29150685-1_l_9.jpg', 'website': 'http://product.dangdang.com/29150685.html', 're-rate': '100%推荐', 'five-stars-nums': '41558次', 'price': '¥15.50'}\n",
      "[{'rank': 1, 'title': '慢一点也没关系（内卷时代的避坑指南）', 'img': 'http://img3m6.ddimg.cn/3/11/29302716-1_l_17.jpg', 'website': 'http://product.dangdang.com/29302716.html', 're-rate': '100%推荐', 'five-stars-nums': '32320次', 'price': '¥19.90'}, {'rank': 2, 'title': '高尔基成长三部曲（童年、在人间、我的大学）', 'img': 'http://img3m4.ddimg.cn/77/13/27911444-1_l_11.jpg', 'website': 'http://product.dangdang.com/27911444.html', 're-rate': '100%推荐', 'five-stars-nums': '134899次', 'price': '¥42.10'}, {'rank': 3, 'title': '空间简史(与《时间简史》《人类简史》《未来简史》并称“四大简史”)', 'img': 'http://img3m1.ddimg.cn/86/2/25546541-1_l_13.jpg', 'website': 'http://product.dangdang.com/25546541.html', 're-rate': '100%推荐', 'five-stars-nums': '132379次', 'price': '¥18.50'}, {'rank': 4, 'title': '外婆出租中', 'img': 'http://img3m4.ddimg.cn/0/32/29276874-1_l_12.jpg', 'website': 'http://product.dangdang.com/29276874.html', 're-rate': '100%推荐', 'five-stars-nums': '32024次', 'price': '¥19.50'}, {'rank': 5, 'title': '男孩的学习力', 'img': 'http://img3m6.ddimg.cn/38/25/28541936-1_l_9.jpg', 'website': 'http://product.dangdang.com/28541936.html', 're-rate': '100%推荐', 'five-stars-nums': '123240次', 'price': '¥19.90'}, {'rank': 6, 'title': '假如给我三天光明', 'img': 'http://img3m8.ddimg.cn/73/28/27898768-1_l_4.jpg', 'website': 'http://product.dangdang.com/27898768.html', 're-rate': '100%推荐', 'five-stars-nums': '22947次', 'price': '¥15.50'}, {'rank': 7, 'title': '傅雷家书', 'img': 'http://img3m5.ddimg.cn/36/13/29150685-1_l_9.jpg', 'website': 'http://product.dangdang.com/29150685.html', 're-rate': '100%推荐', 'five-stars-nums': '41558次', 'price': '¥15.50'}]\n",
      "{'rank': 8, 'title': '因为整理，人生变轻松了【当当专享收纳Tips折页卡】', 'img': 'http://img3m8.ddimg.cn/39/22/29394228-1_l_14.jpg', 'website': 'http://product.dangdang.com/29394228.html', 're-rate': '100%推荐', 'five-stars-nums': '1971次', 'price': '¥24.80'}\n",
      "[{'rank': 1, 'title': '慢一点也没关系（内卷时代的避坑指南）', 'img': 'http://img3m6.ddimg.cn/3/11/29302716-1_l_17.jpg', 'website': 'http://product.dangdang.com/29302716.html', 're-rate': '100%推荐', 'five-stars-nums': '32320次', 'price': '¥19.90'}, {'rank': 2, 'title': '高尔基成长三部曲（童年、在人间、我的大学）', 'img': 'http://img3m4.ddimg.cn/77/13/27911444-1_l_11.jpg', 'website': 'http://product.dangdang.com/27911444.html', 're-rate': '100%推荐', 'five-stars-nums': '134899次', 'price': '¥42.10'}, {'rank': 3, 'title': '空间简史(与《时间简史》《人类简史》《未来简史》并称“四大简史”)', 'img': 'http://img3m1.ddimg.cn/86/2/25546541-1_l_13.jpg', 'website': 'http://product.dangdang.com/25546541.html', 're-rate': '100%推荐', 'five-stars-nums': '132379次', 'price': '¥18.50'}, {'rank': 4, 'title': '外婆出租中', 'img': 'http://img3m4.ddimg.cn/0/32/29276874-1_l_12.jpg', 'website': 'http://product.dangdang.com/29276874.html', 're-rate': '100%推荐', 'five-stars-nums': '32024次', 'price': '¥19.50'}, {'rank': 5, 'title': '男孩的学习力', 'img': 'http://img3m6.ddimg.cn/38/25/28541936-1_l_9.jpg', 'website': 'http://product.dangdang.com/28541936.html', 're-rate': '100%推荐', 'five-stars-nums': '123240次', 'price': '¥19.90'}, {'rank': 6, 'title': '假如给我三天光明', 'img': 'http://img3m8.ddimg.cn/73/28/27898768-1_l_4.jpg', 'website': 'http://product.dangdang.com/27898768.html', 're-rate': '100%推荐', 'five-stars-nums': '22947次', 'price': '¥15.50'}, {'rank': 7, 'title': '傅雷家书', 'img': 'http://img3m5.ddimg.cn/36/13/29150685-1_l_9.jpg', 'website': 'http://product.dangdang.com/29150685.html', 're-rate': '100%推荐', 'five-stars-nums': '41558次', 'price': '¥15.50'}, {'rank': 8, 'title': '因为整理，人生变轻松了【当当专享收纳Tips折页卡】', 'img': 'http://img3m8.ddimg.cn/39/22/29394228-1_l_14.jpg', 'website': 'http://product.dangdang.com/29394228.html', 're-rate': '100%推荐', 'five-stars-nums': '1971次', 'price': '¥24.80'}]\n",
      "{'rank': 9, 'title': '人间至美：朱光潜经典散文集', 'img': 'http://img3m7.ddimg.cn/83/17/28522577-1_l_24.jpg', 'website': 'http://product.dangdang.com/28522577.html', 're-rate': '100%推荐', 'five-stars-nums': '120516次', 'price': '¥13.90'}\n",
      "[{'rank': 1, 'title': '慢一点也没关系（内卷时代的避坑指南）', 'img': 'http://img3m6.ddimg.cn/3/11/29302716-1_l_17.jpg', 'website': 'http://product.dangdang.com/29302716.html', 're-rate': '100%推荐', 'five-stars-nums': '32320次', 'price': '¥19.90'}, {'rank': 2, 'title': '高尔基成长三部曲（童年、在人间、我的大学）', 'img': 'http://img3m4.ddimg.cn/77/13/27911444-1_l_11.jpg', 'website': 'http://product.dangdang.com/27911444.html', 're-rate': '100%推荐', 'five-stars-nums': '134899次', 'price': '¥42.10'}, {'rank': 3, 'title': '空间简史(与《时间简史》《人类简史》《未来简史》并称“四大简史”)', 'img': 'http://img3m1.ddimg.cn/86/2/25546541-1_l_13.jpg', 'website': 'http://product.dangdang.com/25546541.html', 're-rate': '100%推荐', 'five-stars-nums': '132379次', 'price': '¥18.50'}, {'rank': 4, 'title': '外婆出租中', 'img': 'http://img3m4.ddimg.cn/0/32/29276874-1_l_12.jpg', 'website': 'http://product.dangdang.com/29276874.html', 're-rate': '100%推荐', 'five-stars-nums': '32024次', 'price': '¥19.50'}, {'rank': 5, 'title': '男孩的学习力', 'img': 'http://img3m6.ddimg.cn/38/25/28541936-1_l_9.jpg', 'website': 'http://product.dangdang.com/28541936.html', 're-rate': '100%推荐', 'five-stars-nums': '123240次', 'price': '¥19.90'}, {'rank': 6, 'title': '假如给我三天光明', 'img': 'http://img3m8.ddimg.cn/73/28/27898768-1_l_4.jpg', 'website': 'http://product.dangdang.com/27898768.html', 're-rate': '100%推荐', 'five-stars-nums': '22947次', 'price': '¥15.50'}, {'rank': 7, 'title': '傅雷家书', 'img': 'http://img3m5.ddimg.cn/36/13/29150685-1_l_9.jpg', 'website': 'http://product.dangdang.com/29150685.html', 're-rate': '100%推荐', 'five-stars-nums': '41558次', 'price': '¥15.50'}, {'rank': 8, 'title': '因为整理，人生变轻松了【当当专享收纳Tips折页卡】', 'img': 'http://img3m8.ddimg.cn/39/22/29394228-1_l_14.jpg', 'website': 'http://product.dangdang.com/29394228.html', 're-rate': '100%推荐', 'five-stars-nums': '1971次', 'price': '¥24.80'}, {'rank': 9, 'title': '人间至美：朱光潜经典散文集', 'img': 'http://img3m7.ddimg.cn/83/17/28522577-1_l_24.jpg', 'website': 'http://product.dangdang.com/28522577.html', 're-rate': '100%推荐', 'five-stars-nums': '120516次', 'price': '¥13.90'}]\n",
      "{'rank': 10, 'title': '给孩子的礼仪课', 'img': 'http://img3m4.ddimg.cn/84/14/28990254-1_l_10.jpg', 'website': 'http://product.dangdang.com/28990254.html', 're-rate': '100%推荐', 'five-stars-nums': '21144次', 'price': '¥19.90'}\n",
      "[{'rank': 1, 'title': '慢一点也没关系（内卷时代的避坑指南）', 'img': 'http://img3m6.ddimg.cn/3/11/29302716-1_l_17.jpg', 'website': 'http://product.dangdang.com/29302716.html', 're-rate': '100%推荐', 'five-stars-nums': '32320次', 'price': '¥19.90'}, {'rank': 2, 'title': '高尔基成长三部曲（童年、在人间、我的大学）', 'img': 'http://img3m4.ddimg.cn/77/13/27911444-1_l_11.jpg', 'website': 'http://product.dangdang.com/27911444.html', 're-rate': '100%推荐', 'five-stars-nums': '134899次', 'price': '¥42.10'}, {'rank': 3, 'title': '空间简史(与《时间简史》《人类简史》《未来简史》并称“四大简史”)', 'img': 'http://img3m1.ddimg.cn/86/2/25546541-1_l_13.jpg', 'website': 'http://product.dangdang.com/25546541.html', 're-rate': '100%推荐', 'five-stars-nums': '132379次', 'price': '¥18.50'}, {'rank': 4, 'title': '外婆出租中', 'img': 'http://img3m4.ddimg.cn/0/32/29276874-1_l_12.jpg', 'website': 'http://product.dangdang.com/29276874.html', 're-rate': '100%推荐', 'five-stars-nums': '32024次', 'price': '¥19.50'}, {'rank': 5, 'title': '男孩的学习力', 'img': 'http://img3m6.ddimg.cn/38/25/28541936-1_l_9.jpg', 'website': 'http://product.dangdang.com/28541936.html', 're-rate': '100%推荐', 'five-stars-nums': '123240次', 'price': '¥19.90'}, {'rank': 6, 'title': '假如给我三天光明', 'img': 'http://img3m8.ddimg.cn/73/28/27898768-1_l_4.jpg', 'website': 'http://product.dangdang.com/27898768.html', 're-rate': '100%推荐', 'five-stars-nums': '22947次', 'price': '¥15.50'}, {'rank': 7, 'title': '傅雷家书', 'img': 'http://img3m5.ddimg.cn/36/13/29150685-1_l_9.jpg', 'website': 'http://product.dangdang.com/29150685.html', 're-rate': '100%推荐', 'five-stars-nums': '41558次', 'price': '¥15.50'}, {'rank': 8, 'title': '因为整理，人生变轻松了【当当专享收纳Tips折页卡】', 'img': 'http://img3m8.ddimg.cn/39/22/29394228-1_l_14.jpg', 'website': 'http://product.dangdang.com/29394228.html', 're-rate': '100%推荐', 'five-stars-nums': '1971次', 'price': '¥24.80'}, {'rank': 9, 'title': '人间至美：朱光潜经典散文集', 'img': 'http://img3m7.ddimg.cn/83/17/28522577-1_l_24.jpg', 'website': 'http://product.dangdang.com/28522577.html', 're-rate': '100%推荐', 'five-stars-nums': '120516次', 'price': '¥13.90'}, {'rank': 10, 'title': '给孩子的礼仪课', 'img': 'http://img3m4.ddimg.cn/84/14/28990254-1_l_10.jpg', 'website': 'http://product.dangdang.com/28990254.html', 're-rate': '100%推荐', 'five-stars-nums': '21144次', 'price': '¥19.90'}]\n",
      "{'rank': 11, 'title': '活着，得有点兴致(汪曾祺作品)', 'img': 'http://img3m7.ddimg.cn/11/32/29247977-1_l_17.jpg', 'website': 'http://product.dangdang.com/29247977.html', 're-rate': '100%推荐', 'five-stars-nums': '20986次', 'price': '¥18.70'}\n",
      "[{'rank': 1, 'title': '慢一点也没关系（内卷时代的避坑指南）', 'img': 'http://img3m6.ddimg.cn/3/11/29302716-1_l_17.jpg', 'website': 'http://product.dangdang.com/29302716.html', 're-rate': '100%推荐', 'five-stars-nums': '32320次', 'price': '¥19.90'}, {'rank': 2, 'title': '高尔基成长三部曲（童年、在人间、我的大学）', 'img': 'http://img3m4.ddimg.cn/77/13/27911444-1_l_11.jpg', 'website': 'http://product.dangdang.com/27911444.html', 're-rate': '100%推荐', 'five-stars-nums': '134899次', 'price': '¥42.10'}, {'rank': 3, 'title': '空间简史(与《时间简史》《人类简史》《未来简史》并称“四大简史”)', 'img': 'http://img3m1.ddimg.cn/86/2/25546541-1_l_13.jpg', 'website': 'http://product.dangdang.com/25546541.html', 're-rate': '100%推荐', 'five-stars-nums': '132379次', 'price': '¥18.50'}, {'rank': 4, 'title': '外婆出租中', 'img': 'http://img3m4.ddimg.cn/0/32/29276874-1_l_12.jpg', 'website': 'http://product.dangdang.com/29276874.html', 're-rate': '100%推荐', 'five-stars-nums': '32024次', 'price': '¥19.50'}, {'rank': 5, 'title': '男孩的学习力', 'img': 'http://img3m6.ddimg.cn/38/25/28541936-1_l_9.jpg', 'website': 'http://product.dangdang.com/28541936.html', 're-rate': '100%推荐', 'five-stars-nums': '123240次', 'price': '¥19.90'}, {'rank': 6, 'title': '假如给我三天光明', 'img': 'http://img3m8.ddimg.cn/73/28/27898768-1_l_4.jpg', 'website': 'http://product.dangdang.com/27898768.html', 're-rate': '100%推荐', 'five-stars-nums': '22947次', 'price': '¥15.50'}, {'rank': 7, 'title': '傅雷家书', 'img': 'http://img3m5.ddimg.cn/36/13/29150685-1_l_9.jpg', 'website': 'http://product.dangdang.com/29150685.html', 're-rate': '100%推荐', 'five-stars-nums': '41558次', 'price': '¥15.50'}, {'rank': 8, 'title': '因为整理，人生变轻松了【当当专享收纳Tips折页卡】', 'img': 'http://img3m8.ddimg.cn/39/22/29394228-1_l_14.jpg', 'website': 'http://product.dangdang.com/29394228.html', 're-rate': '100%推荐', 'five-stars-nums': '1971次', 'price': '¥24.80'}, {'rank': 9, 'title': '人间至美：朱光潜经典散文集', 'img': 'http://img3m7.ddimg.cn/83/17/28522577-1_l_24.jpg', 'website': 'http://product.dangdang.com/28522577.html', 're-rate': '100%推荐', 'five-stars-nums': '120516次', 'price': '¥13.90'}, {'rank': 10, 'title': '给孩子的礼仪课', 'img': 'http://img3m4.ddimg.cn/84/14/28990254-1_l_10.jpg', 'website': 'http://product.dangdang.com/28990254.html', 're-rate': '100%推荐', 'five-stars-nums': '21144次', 'price': '¥19.90'}, {'rank': 11, 'title': '活着，得有点兴致(汪曾祺作品)', 'img': 'http://img3m7.ddimg.cn/11/32/29247977-1_l_17.jpg', 'website': 'http://product.dangdang.com/29247977.html', 're-rate': '100%推荐', 'five-stars-nums': '20986次', 'price': '¥18.70'}]\n",
      "{'rank': 12, 'title': '王阳明传', 'img': 'http://img3m3.ddimg.cn/71/8/28995983-1_l_7.jpg', 'website': 'http://product.dangdang.com/28995983.html', 're-rate': '100%推荐', 'five-stars-nums': '15170次', 'price': '¥19.90'}\n",
      "[{'rank': 1, 'title': '慢一点也没关系（内卷时代的避坑指南）', 'img': 'http://img3m6.ddimg.cn/3/11/29302716-1_l_17.jpg', 'website': 'http://product.dangdang.com/29302716.html', 're-rate': '100%推荐', 'five-stars-nums': '32320次', 'price': '¥19.90'}, {'rank': 2, 'title': '高尔基成长三部曲（童年、在人间、我的大学）', 'img': 'http://img3m4.ddimg.cn/77/13/27911444-1_l_11.jpg', 'website': 'http://product.dangdang.com/27911444.html', 're-rate': '100%推荐', 'five-stars-nums': '134899次', 'price': '¥42.10'}, {'rank': 3, 'title': '空间简史(与《时间简史》《人类简史》《未来简史》并称“四大简史”)', 'img': 'http://img3m1.ddimg.cn/86/2/25546541-1_l_13.jpg', 'website': 'http://product.dangdang.com/25546541.html', 're-rate': '100%推荐', 'five-stars-nums': '132379次', 'price': '¥18.50'}, {'rank': 4, 'title': '外婆出租中', 'img': 'http://img3m4.ddimg.cn/0/32/29276874-1_l_12.jpg', 'website': 'http://product.dangdang.com/29276874.html', 're-rate': '100%推荐', 'five-stars-nums': '32024次', 'price': '¥19.50'}, {'rank': 5, 'title': '男孩的学习力', 'img': 'http://img3m6.ddimg.cn/38/25/28541936-1_l_9.jpg', 'website': 'http://product.dangdang.com/28541936.html', 're-rate': '100%推荐', 'five-stars-nums': '123240次', 'price': '¥19.90'}, {'rank': 6, 'title': '假如给我三天光明', 'img': 'http://img3m8.ddimg.cn/73/28/27898768-1_l_4.jpg', 'website': 'http://product.dangdang.com/27898768.html', 're-rate': '100%推荐', 'five-stars-nums': '22947次', 'price': '¥15.50'}, {'rank': 7, 'title': '傅雷家书', 'img': 'http://img3m5.ddimg.cn/36/13/29150685-1_l_9.jpg', 'website': 'http://product.dangdang.com/29150685.html', 're-rate': '100%推荐', 'five-stars-nums': '41558次', 'price': '¥15.50'}, {'rank': 8, 'title': '因为整理，人生变轻松了【当当专享收纳Tips折页卡】', 'img': 'http://img3m8.ddimg.cn/39/22/29394228-1_l_14.jpg', 'website': 'http://product.dangdang.com/29394228.html', 're-rate': '100%推荐', 'five-stars-nums': '1971次', 'price': '¥24.80'}, {'rank': 9, 'title': '人间至美：朱光潜经典散文集', 'img': 'http://img3m7.ddimg.cn/83/17/28522577-1_l_24.jpg', 'website': 'http://product.dangdang.com/28522577.html', 're-rate': '100%推荐', 'five-stars-nums': '120516次', 'price': '¥13.90'}, {'rank': 10, 'title': '给孩子的礼仪课', 'img': 'http://img3m4.ddimg.cn/84/14/28990254-1_l_10.jpg', 'website': 'http://product.dangdang.com/28990254.html', 're-rate': '100%推荐', 'five-stars-nums': '21144次', 'price': '¥19.90'}, {'rank': 11, 'title': '活着，得有点兴致(汪曾祺作品)', 'img': 'http://img3m7.ddimg.cn/11/32/29247977-1_l_17.jpg', 'website': 'http://product.dangdang.com/29247977.html', 're-rate': '100%推荐', 'five-stars-nums': '20986次', 'price': '¥18.70'}, {'rank': 12, 'title': '王阳明传', 'img': 'http://img3m3.ddimg.cn/71/8/28995983-1_l_7.jpg', 'website': 'http://product.dangdang.com/28995983.html', 're-rate': '100%推荐', 'five-stars-nums': '15170次', 'price': '¥19.90'}]\n",
      "{'rank': 13, 'title': '斯多葛生活哲学（在多变的世界，把握人生的方向）', 'img': 'http://img3m1.ddimg.cn/16/27/29439151-1_l_14.jpg', 'website': 'http://product.dangdang.com/29439151.html', 're-rate': '100%推荐', 'five-stars-nums': '1832次', 'price': '¥21.00'}\n",
      "[{'rank': 1, 'title': '慢一点也没关系（内卷时代的避坑指南）', 'img': 'http://img3m6.ddimg.cn/3/11/29302716-1_l_17.jpg', 'website': 'http://product.dangdang.com/29302716.html', 're-rate': '100%推荐', 'five-stars-nums': '32320次', 'price': '¥19.90'}, {'rank': 2, 'title': '高尔基成长三部曲（童年、在人间、我的大学）', 'img': 'http://img3m4.ddimg.cn/77/13/27911444-1_l_11.jpg', 'website': 'http://product.dangdang.com/27911444.html', 're-rate': '100%推荐', 'five-stars-nums': '134899次', 'price': '¥42.10'}, {'rank': 3, 'title': '空间简史(与《时间简史》《人类简史》《未来简史》并称“四大简史”)', 'img': 'http://img3m1.ddimg.cn/86/2/25546541-1_l_13.jpg', 'website': 'http://product.dangdang.com/25546541.html', 're-rate': '100%推荐', 'five-stars-nums': '132379次', 'price': '¥18.50'}, {'rank': 4, 'title': '外婆出租中', 'img': 'http://img3m4.ddimg.cn/0/32/29276874-1_l_12.jpg', 'website': 'http://product.dangdang.com/29276874.html', 're-rate': '100%推荐', 'five-stars-nums': '32024次', 'price': '¥19.50'}, {'rank': 5, 'title': '男孩的学习力', 'img': 'http://img3m6.ddimg.cn/38/25/28541936-1_l_9.jpg', 'website': 'http://product.dangdang.com/28541936.html', 're-rate': '100%推荐', 'five-stars-nums': '123240次', 'price': '¥19.90'}, {'rank': 6, 'title': '假如给我三天光明', 'img': 'http://img3m8.ddimg.cn/73/28/27898768-1_l_4.jpg', 'website': 'http://product.dangdang.com/27898768.html', 're-rate': '100%推荐', 'five-stars-nums': '22947次', 'price': '¥15.50'}, {'rank': 7, 'title': '傅雷家书', 'img': 'http://img3m5.ddimg.cn/36/13/29150685-1_l_9.jpg', 'website': 'http://product.dangdang.com/29150685.html', 're-rate': '100%推荐', 'five-stars-nums': '41558次', 'price': '¥15.50'}, {'rank': 8, 'title': '因为整理，人生变轻松了【当当专享收纳Tips折页卡】', 'img': 'http://img3m8.ddimg.cn/39/22/29394228-1_l_14.jpg', 'website': 'http://product.dangdang.com/29394228.html', 're-rate': '100%推荐', 'five-stars-nums': '1971次', 'price': '¥24.80'}, {'rank': 9, 'title': '人间至美：朱光潜经典散文集', 'img': 'http://img3m7.ddimg.cn/83/17/28522577-1_l_24.jpg', 'website': 'http://product.dangdang.com/28522577.html', 're-rate': '100%推荐', 'five-stars-nums': '120516次', 'price': '¥13.90'}, {'rank': 10, 'title': '给孩子的礼仪课', 'img': 'http://img3m4.ddimg.cn/84/14/28990254-1_l_10.jpg', 'website': 'http://product.dangdang.com/28990254.html', 're-rate': '100%推荐', 'five-stars-nums': '21144次', 'price': '¥19.90'}, {'rank': 11, 'title': '活着，得有点兴致(汪曾祺作品)', 'img': 'http://img3m7.ddimg.cn/11/32/29247977-1_l_17.jpg', 'website': 'http://product.dangdang.com/29247977.html', 're-rate': '100%推荐', 'five-stars-nums': '20986次', 'price': '¥18.70'}, {'rank': 12, 'title': '王阳明传', 'img': 'http://img3m3.ddimg.cn/71/8/28995983-1_l_7.jpg', 'website': 'http://product.dangdang.com/28995983.html', 're-rate': '100%推荐', 'five-stars-nums': '15170次', 'price': '¥19.90'}, {'rank': 13, 'title': '斯多葛生活哲学（在多变的世界，把握人生的方向）', 'img': 'http://img3m1.ddimg.cn/16/27/29439151-1_l_14.jpg', 'website': 'http://product.dangdang.com/29439151.html', 're-rate': '100%推荐', 'five-stars-nums': '1832次', 'price': '¥21.00'}]\n",
      "{'rank': 14, 'title': '这个三国史很上头（史学专家张大可妙论三国，有趣、有料、有深度！）', 'img': 'http://img3m2.ddimg.cn/0/29/29433492-1_l_2.jpg', 'website': 'http://product.dangdang.com/29433492.html', 're-rate': '100%推荐', 'five-stars-nums': '5140次', 'price': '¥22.50'}\n",
      "[{'rank': 1, 'title': '慢一点也没关系（内卷时代的避坑指南）', 'img': 'http://img3m6.ddimg.cn/3/11/29302716-1_l_17.jpg', 'website': 'http://product.dangdang.com/29302716.html', 're-rate': '100%推荐', 'five-stars-nums': '32320次', 'price': '¥19.90'}, {'rank': 2, 'title': '高尔基成长三部曲（童年、在人间、我的大学）', 'img': 'http://img3m4.ddimg.cn/77/13/27911444-1_l_11.jpg', 'website': 'http://product.dangdang.com/27911444.html', 're-rate': '100%推荐', 'five-stars-nums': '134899次', 'price': '¥42.10'}, {'rank': 3, 'title': '空间简史(与《时间简史》《人类简史》《未来简史》并称“四大简史”)', 'img': 'http://img3m1.ddimg.cn/86/2/25546541-1_l_13.jpg', 'website': 'http://product.dangdang.com/25546541.html', 're-rate': '100%推荐', 'five-stars-nums': '132379次', 'price': '¥18.50'}, {'rank': 4, 'title': '外婆出租中', 'img': 'http://img3m4.ddimg.cn/0/32/29276874-1_l_12.jpg', 'website': 'http://product.dangdang.com/29276874.html', 're-rate': '100%推荐', 'five-stars-nums': '32024次', 'price': '¥19.50'}, {'rank': 5, 'title': '男孩的学习力', 'img': 'http://img3m6.ddimg.cn/38/25/28541936-1_l_9.jpg', 'website': 'http://product.dangdang.com/28541936.html', 're-rate': '100%推荐', 'five-stars-nums': '123240次', 'price': '¥19.90'}, {'rank': 6, 'title': '假如给我三天光明', 'img': 'http://img3m8.ddimg.cn/73/28/27898768-1_l_4.jpg', 'website': 'http://product.dangdang.com/27898768.html', 're-rate': '100%推荐', 'five-stars-nums': '22947次', 'price': '¥15.50'}, {'rank': 7, 'title': '傅雷家书', 'img': 'http://img3m5.ddimg.cn/36/13/29150685-1_l_9.jpg', 'website': 'http://product.dangdang.com/29150685.html', 're-rate': '100%推荐', 'five-stars-nums': '41558次', 'price': '¥15.50'}, {'rank': 8, 'title': '因为整理，人生变轻松了【当当专享收纳Tips折页卡】', 'img': 'http://img3m8.ddimg.cn/39/22/29394228-1_l_14.jpg', 'website': 'http://product.dangdang.com/29394228.html', 're-rate': '100%推荐', 'five-stars-nums': '1971次', 'price': '¥24.80'}, {'rank': 9, 'title': '人间至美：朱光潜经典散文集', 'img': 'http://img3m7.ddimg.cn/83/17/28522577-1_l_24.jpg', 'website': 'http://product.dangdang.com/28522577.html', 're-rate': '100%推荐', 'five-stars-nums': '120516次', 'price': '¥13.90'}, {'rank': 10, 'title': '给孩子的礼仪课', 'img': 'http://img3m4.ddimg.cn/84/14/28990254-1_l_10.jpg', 'website': 'http://product.dangdang.com/28990254.html', 're-rate': '100%推荐', 'five-stars-nums': '21144次', 'price': '¥19.90'}, {'rank': 11, 'title': '活着，得有点兴致(汪曾祺作品)', 'img': 'http://img3m7.ddimg.cn/11/32/29247977-1_l_17.jpg', 'website': 'http://product.dangdang.com/29247977.html', 're-rate': '100%推荐', 'five-stars-nums': '20986次', 'price': '¥18.70'}, {'rank': 12, 'title': '王阳明传', 'img': 'http://img3m3.ddimg.cn/71/8/28995983-1_l_7.jpg', 'website': 'http://product.dangdang.com/28995983.html', 're-rate': '100%推荐', 'five-stars-nums': '15170次', 'price': '¥19.90'}, {'rank': 13, 'title': '斯多葛生活哲学（在多变的世界，把握人生的方向）', 'img': 'http://img3m1.ddimg.cn/16/27/29439151-1_l_14.jpg', 'website': 'http://product.dangdang.com/29439151.html', 're-rate': '100%推荐', 'five-stars-nums': '1832次', 'price': '¥21.00'}, {'rank': 14, 'title': '这个三国史很上头（史学专家张大可妙论三国，有趣、有料、有深度！）', 'img': 'http://img3m2.ddimg.cn/0/29/29433492-1_l_2.jpg', 'website': 'http://product.dangdang.com/29433492.html', 're-rate': '100%推荐', 'five-stars-nums': '5140次', 'price': '¥22.50'}]\n",
      "{'rank': 15, 'title': '山月记（川端康成力荐，比芥川龙之介《罗生门》更通透，比夏目漱石《我是猫》更清醒）', 'img': 'http://img3m8.ddimg.cn/1/20/29338948-1_l_9.jpg', 'website': 'http://product.dangdang.com/29338948.html', 're-rate': '100%推荐', 'five-stars-nums': '12553次', 'price': '¥15.50'}\n",
      "[{'rank': 1, 'title': '慢一点也没关系（内卷时代的避坑指南）', 'img': 'http://img3m6.ddimg.cn/3/11/29302716-1_l_17.jpg', 'website': 'http://product.dangdang.com/29302716.html', 're-rate': '100%推荐', 'five-stars-nums': '32320次', 'price': '¥19.90'}, {'rank': 2, 'title': '高尔基成长三部曲（童年、在人间、我的大学）', 'img': 'http://img3m4.ddimg.cn/77/13/27911444-1_l_11.jpg', 'website': 'http://product.dangdang.com/27911444.html', 're-rate': '100%推荐', 'five-stars-nums': '134899次', 'price': '¥42.10'}, {'rank': 3, 'title': '空间简史(与《时间简史》《人类简史》《未来简史》并称“四大简史”)', 'img': 'http://img3m1.ddimg.cn/86/2/25546541-1_l_13.jpg', 'website': 'http://product.dangdang.com/25546541.html', 're-rate': '100%推荐', 'five-stars-nums': '132379次', 'price': '¥18.50'}, {'rank': 4, 'title': '外婆出租中', 'img': 'http://img3m4.ddimg.cn/0/32/29276874-1_l_12.jpg', 'website': 'http://product.dangdang.com/29276874.html', 're-rate': '100%推荐', 'five-stars-nums': '32024次', 'price': '¥19.50'}, {'rank': 5, 'title': '男孩的学习力', 'img': 'http://img3m6.ddimg.cn/38/25/28541936-1_l_9.jpg', 'website': 'http://product.dangdang.com/28541936.html', 're-rate': '100%推荐', 'five-stars-nums': '123240次', 'price': '¥19.90'}, {'rank': 6, 'title': '假如给我三天光明', 'img': 'http://img3m8.ddimg.cn/73/28/27898768-1_l_4.jpg', 'website': 'http://product.dangdang.com/27898768.html', 're-rate': '100%推荐', 'five-stars-nums': '22947次', 'price': '¥15.50'}, {'rank': 7, 'title': '傅雷家书', 'img': 'http://img3m5.ddimg.cn/36/13/29150685-1_l_9.jpg', 'website': 'http://product.dangdang.com/29150685.html', 're-rate': '100%推荐', 'five-stars-nums': '41558次', 'price': '¥15.50'}, {'rank': 8, 'title': '因为整理，人生变轻松了【当当专享收纳Tips折页卡】', 'img': 'http://img3m8.ddimg.cn/39/22/29394228-1_l_14.jpg', 'website': 'http://product.dangdang.com/29394228.html', 're-rate': '100%推荐', 'five-stars-nums': '1971次', 'price': '¥24.80'}, {'rank': 9, 'title': '人间至美：朱光潜经典散文集', 'img': 'http://img3m7.ddimg.cn/83/17/28522577-1_l_24.jpg', 'website': 'http://product.dangdang.com/28522577.html', 're-rate': '100%推荐', 'five-stars-nums': '120516次', 'price': '¥13.90'}, {'rank': 10, 'title': '给孩子的礼仪课', 'img': 'http://img3m4.ddimg.cn/84/14/28990254-1_l_10.jpg', 'website': 'http://product.dangdang.com/28990254.html', 're-rate': '100%推荐', 'five-stars-nums': '21144次', 'price': '¥19.90'}, {'rank': 11, 'title': '活着，得有点兴致(汪曾祺作品)', 'img': 'http://img3m7.ddimg.cn/11/32/29247977-1_l_17.jpg', 'website': 'http://product.dangdang.com/29247977.html', 're-rate': '100%推荐', 'five-stars-nums': '20986次', 'price': '¥18.70'}, {'rank': 12, 'title': '王阳明传', 'img': 'http://img3m3.ddimg.cn/71/8/28995983-1_l_7.jpg', 'website': 'http://product.dangdang.com/28995983.html', 're-rate': '100%推荐', 'five-stars-nums': '15170次', 'price': '¥19.90'}, {'rank': 13, 'title': '斯多葛生活哲学（在多变的世界，把握人生的方向）', 'img': 'http://img3m1.ddimg.cn/16/27/29439151-1_l_14.jpg', 'website': 'http://product.dangdang.com/29439151.html', 're-rate': '100%推荐', 'five-stars-nums': '1832次', 'price': '¥21.00'}, {'rank': 14, 'title': '这个三国史很上头（史学专家张大可妙论三国，有趣、有料、有深度！）', 'img': 'http://img3m2.ddimg.cn/0/29/29433492-1_l_2.jpg', 'website': 'http://product.dangdang.com/29433492.html', 're-rate': '100%推荐', 'five-stars-nums': '5140次', 'price': '¥22.50'}, {'rank': 15, 'title': '山月记（川端康成力荐，比芥川龙之介《罗生门》更通透，比夏目漱石《我是猫》更清醒）', 'img': 'http://img3m8.ddimg.cn/1/20/29338948-1_l_9.jpg', 'website': 'http://product.dangdang.com/29338948.html', 're-rate': '100%推荐', 'five-stars-nums': '12553次', 'price': '¥15.50'}]\n",
      "{'rank': 16, 'title': '我能有什么坏心思呢（爆梗“去码头整点薯条”原著漫画）当当定制超萌贴纸', 'img': 'http://img3m7.ddimg.cn/41/24/29317307-1_l_14.jpg', 'website': 'http://product.dangdang.com/29317307.html', 're-rate': '100%推荐', 'five-stars-nums': '16431次', 'price': '¥29.90'}\n",
      "[{'rank': 1, 'title': '慢一点也没关系（内卷时代的避坑指南）', 'img': 'http://img3m6.ddimg.cn/3/11/29302716-1_l_17.jpg', 'website': 'http://product.dangdang.com/29302716.html', 're-rate': '100%推荐', 'five-stars-nums': '32320次', 'price': '¥19.90'}, {'rank': 2, 'title': '高尔基成长三部曲（童年、在人间、我的大学）', 'img': 'http://img3m4.ddimg.cn/77/13/27911444-1_l_11.jpg', 'website': 'http://product.dangdang.com/27911444.html', 're-rate': '100%推荐', 'five-stars-nums': '134899次', 'price': '¥42.10'}, {'rank': 3, 'title': '空间简史(与《时间简史》《人类简史》《未来简史》并称“四大简史”)', 'img': 'http://img3m1.ddimg.cn/86/2/25546541-1_l_13.jpg', 'website': 'http://product.dangdang.com/25546541.html', 're-rate': '100%推荐', 'five-stars-nums': '132379次', 'price': '¥18.50'}, {'rank': 4, 'title': '外婆出租中', 'img': 'http://img3m4.ddimg.cn/0/32/29276874-1_l_12.jpg', 'website': 'http://product.dangdang.com/29276874.html', 're-rate': '100%推荐', 'five-stars-nums': '32024次', 'price': '¥19.50'}, {'rank': 5, 'title': '男孩的学习力', 'img': 'http://img3m6.ddimg.cn/38/25/28541936-1_l_9.jpg', 'website': 'http://product.dangdang.com/28541936.html', 're-rate': '100%推荐', 'five-stars-nums': '123240次', 'price': '¥19.90'}, {'rank': 6, 'title': '假如给我三天光明', 'img': 'http://img3m8.ddimg.cn/73/28/27898768-1_l_4.jpg', 'website': 'http://product.dangdang.com/27898768.html', 're-rate': '100%推荐', 'five-stars-nums': '22947次', 'price': '¥15.50'}, {'rank': 7, 'title': '傅雷家书', 'img': 'http://img3m5.ddimg.cn/36/13/29150685-1_l_9.jpg', 'website': 'http://product.dangdang.com/29150685.html', 're-rate': '100%推荐', 'five-stars-nums': '41558次', 'price': '¥15.50'}, {'rank': 8, 'title': '因为整理，人生变轻松了【当当专享收纳Tips折页卡】', 'img': 'http://img3m8.ddimg.cn/39/22/29394228-1_l_14.jpg', 'website': 'http://product.dangdang.com/29394228.html', 're-rate': '100%推荐', 'five-stars-nums': '1971次', 'price': '¥24.80'}, {'rank': 9, 'title': '人间至美：朱光潜经典散文集', 'img': 'http://img3m7.ddimg.cn/83/17/28522577-1_l_24.jpg', 'website': 'http://product.dangdang.com/28522577.html', 're-rate': '100%推荐', 'five-stars-nums': '120516次', 'price': '¥13.90'}, {'rank': 10, 'title': '给孩子的礼仪课', 'img': 'http://img3m4.ddimg.cn/84/14/28990254-1_l_10.jpg', 'website': 'http://product.dangdang.com/28990254.html', 're-rate': '100%推荐', 'five-stars-nums': '21144次', 'price': '¥19.90'}, {'rank': 11, 'title': '活着，得有点兴致(汪曾祺作品)', 'img': 'http://img3m7.ddimg.cn/11/32/29247977-1_l_17.jpg', 'website': 'http://product.dangdang.com/29247977.html', 're-rate': '100%推荐', 'five-stars-nums': '20986次', 'price': '¥18.70'}, {'rank': 12, 'title': '王阳明传', 'img': 'http://img3m3.ddimg.cn/71/8/28995983-1_l_7.jpg', 'website': 'http://product.dangdang.com/28995983.html', 're-rate': '100%推荐', 'five-stars-nums': '15170次', 'price': '¥19.90'}, {'rank': 13, 'title': '斯多葛生活哲学（在多变的世界，把握人生的方向）', 'img': 'http://img3m1.ddimg.cn/16/27/29439151-1_l_14.jpg', 'website': 'http://product.dangdang.com/29439151.html', 're-rate': '100%推荐', 'five-stars-nums': '1832次', 'price': '¥21.00'}, {'rank': 14, 'title': '这个三国史很上头（史学专家张大可妙论三国，有趣、有料、有深度！）', 'img': 'http://img3m2.ddimg.cn/0/29/29433492-1_l_2.jpg', 'website': 'http://product.dangdang.com/29433492.html', 're-rate': '100%推荐', 'five-stars-nums': '5140次', 'price': '¥22.50'}, {'rank': 15, 'title': '山月记（川端康成力荐，比芥川龙之介《罗生门》更通透，比夏目漱石《我是猫》更清醒）', 'img': 'http://img3m8.ddimg.cn/1/20/29338948-1_l_9.jpg', 'website': 'http://product.dangdang.com/29338948.html', 're-rate': '100%推荐', 'five-stars-nums': '12553次', 'price': '¥15.50'}, {'rank': 16, 'title': '我能有什么坏心思呢（爆梗“去码头整点薯条”原著漫画）当当定制超萌贴纸', 'img': 'http://img3m7.ddimg.cn/41/24/29317307-1_l_14.jpg', 'website': 'http://product.dangdang.com/29317307.html', 're-rate': '100%推荐', 'five-stars-nums': '16431次', 'price': '¥29.90'}]\n",
      "{'rank': 17, 'title': '万物有趣：汪曾祺散文集', 'img': 'http://img3m1.ddimg.cn/45/7/29124261-1_l_9.jpg', 'website': 'http://product.dangdang.com/29124261.html', 're-rate': '100%推荐', 'five-stars-nums': '42653次', 'price': '¥19.90'}\n",
      "[{'rank': 1, 'title': '慢一点也没关系（内卷时代的避坑指南）', 'img': 'http://img3m6.ddimg.cn/3/11/29302716-1_l_17.jpg', 'website': 'http://product.dangdang.com/29302716.html', 're-rate': '100%推荐', 'five-stars-nums': '32320次', 'price': '¥19.90'}, {'rank': 2, 'title': '高尔基成长三部曲（童年、在人间、我的大学）', 'img': 'http://img3m4.ddimg.cn/77/13/27911444-1_l_11.jpg', 'website': 'http://product.dangdang.com/27911444.html', 're-rate': '100%推荐', 'five-stars-nums': '134899次', 'price': '¥42.10'}, {'rank': 3, 'title': '空间简史(与《时间简史》《人类简史》《未来简史》并称“四大简史”)', 'img': 'http://img3m1.ddimg.cn/86/2/25546541-1_l_13.jpg', 'website': 'http://product.dangdang.com/25546541.html', 're-rate': '100%推荐', 'five-stars-nums': '132379次', 'price': '¥18.50'}, {'rank': 4, 'title': '外婆出租中', 'img': 'http://img3m4.ddimg.cn/0/32/29276874-1_l_12.jpg', 'website': 'http://product.dangdang.com/29276874.html', 're-rate': '100%推荐', 'five-stars-nums': '32024次', 'price': '¥19.50'}, {'rank': 5, 'title': '男孩的学习力', 'img': 'http://img3m6.ddimg.cn/38/25/28541936-1_l_9.jpg', 'website': 'http://product.dangdang.com/28541936.html', 're-rate': '100%推荐', 'five-stars-nums': '123240次', 'price': '¥19.90'}, {'rank': 6, 'title': '假如给我三天光明', 'img': 'http://img3m8.ddimg.cn/73/28/27898768-1_l_4.jpg', 'website': 'http://product.dangdang.com/27898768.html', 're-rate': '100%推荐', 'five-stars-nums': '22947次', 'price': '¥15.50'}, {'rank': 7, 'title': '傅雷家书', 'img': 'http://img3m5.ddimg.cn/36/13/29150685-1_l_9.jpg', 'website': 'http://product.dangdang.com/29150685.html', 're-rate': '100%推荐', 'five-stars-nums': '41558次', 'price': '¥15.50'}, {'rank': 8, 'title': '因为整理，人生变轻松了【当当专享收纳Tips折页卡】', 'img': 'http://img3m8.ddimg.cn/39/22/29394228-1_l_14.jpg', 'website': 'http://product.dangdang.com/29394228.html', 're-rate': '100%推荐', 'five-stars-nums': '1971次', 'price': '¥24.80'}, {'rank': 9, 'title': '人间至美：朱光潜经典散文集', 'img': 'http://img3m7.ddimg.cn/83/17/28522577-1_l_24.jpg', 'website': 'http://product.dangdang.com/28522577.html', 're-rate': '100%推荐', 'five-stars-nums': '120516次', 'price': '¥13.90'}, {'rank': 10, 'title': '给孩子的礼仪课', 'img': 'http://img3m4.ddimg.cn/84/14/28990254-1_l_10.jpg', 'website': 'http://product.dangdang.com/28990254.html', 're-rate': '100%推荐', 'five-stars-nums': '21144次', 'price': '¥19.90'}, {'rank': 11, 'title': '活着，得有点兴致(汪曾祺作品)', 'img': 'http://img3m7.ddimg.cn/11/32/29247977-1_l_17.jpg', 'website': 'http://product.dangdang.com/29247977.html', 're-rate': '100%推荐', 'five-stars-nums': '20986次', 'price': '¥18.70'}, {'rank': 12, 'title': '王阳明传', 'img': 'http://img3m3.ddimg.cn/71/8/28995983-1_l_7.jpg', 'website': 'http://product.dangdang.com/28995983.html', 're-rate': '100%推荐', 'five-stars-nums': '15170次', 'price': '¥19.90'}, {'rank': 13, 'title': '斯多葛生活哲学（在多变的世界，把握人生的方向）', 'img': 'http://img3m1.ddimg.cn/16/27/29439151-1_l_14.jpg', 'website': 'http://product.dangdang.com/29439151.html', 're-rate': '100%推荐', 'five-stars-nums': '1832次', 'price': '¥21.00'}, {'rank': 14, 'title': '这个三国史很上头（史学专家张大可妙论三国，有趣、有料、有深度！）', 'img': 'http://img3m2.ddimg.cn/0/29/29433492-1_l_2.jpg', 'website': 'http://product.dangdang.com/29433492.html', 're-rate': '100%推荐', 'five-stars-nums': '5140次', 'price': '¥22.50'}, {'rank': 15, 'title': '山月记（川端康成力荐，比芥川龙之介《罗生门》更通透，比夏目漱石《我是猫》更清醒）', 'img': 'http://img3m8.ddimg.cn/1/20/29338948-1_l_9.jpg', 'website': 'http://product.dangdang.com/29338948.html', 're-rate': '100%推荐', 'five-stars-nums': '12553次', 'price': '¥15.50'}, {'rank': 16, 'title': '我能有什么坏心思呢（爆梗“去码头整点薯条”原著漫画）当当定制超萌贴纸', 'img': 'http://img3m7.ddimg.cn/41/24/29317307-1_l_14.jpg', 'website': 'http://product.dangdang.com/29317307.html', 're-rate': '100%推荐', 'five-stars-nums': '16431次', 'price': '¥29.90'}, {'rank': 17, 'title': '万物有趣：汪曾祺散文集', 'img': 'http://img3m1.ddimg.cn/45/7/29124261-1_l_9.jpg', 'website': 'http://product.dangdang.com/29124261.html', 're-rate': '100%推荐', 'five-stars-nums': '42653次', 'price': '¥19.90'}]\n",
      "{'rank': 18, 'title': '可爱的中国（中小学生爱国主义课外阅读，青少年红色经典读物，响彻大地的革命颂歌）', 'img': 'http://img3m6.ddimg.cn/75/0/29435646-1_l_8.jpg', 'website': 'http://product.dangdang.com/29435646.html', 're-rate': '100%推荐', 'five-stars-nums': '1725次', 'price': '¥15.50'}\n",
      "[{'rank': 1, 'title': '慢一点也没关系（内卷时代的避坑指南）', 'img': 'http://img3m6.ddimg.cn/3/11/29302716-1_l_17.jpg', 'website': 'http://product.dangdang.com/29302716.html', 're-rate': '100%推荐', 'five-stars-nums': '32320次', 'price': '¥19.90'}, {'rank': 2, 'title': '高尔基成长三部曲（童年、在人间、我的大学）', 'img': 'http://img3m4.ddimg.cn/77/13/27911444-1_l_11.jpg', 'website': 'http://product.dangdang.com/27911444.html', 're-rate': '100%推荐', 'five-stars-nums': '134899次', 'price': '¥42.10'}, {'rank': 3, 'title': '空间简史(与《时间简史》《人类简史》《未来简史》并称“四大简史”)', 'img': 'http://img3m1.ddimg.cn/86/2/25546541-1_l_13.jpg', 'website': 'http://product.dangdang.com/25546541.html', 're-rate': '100%推荐', 'five-stars-nums': '132379次', 'price': '¥18.50'}, {'rank': 4, 'title': '外婆出租中', 'img': 'http://img3m4.ddimg.cn/0/32/29276874-1_l_12.jpg', 'website': 'http://product.dangdang.com/29276874.html', 're-rate': '100%推荐', 'five-stars-nums': '32024次', 'price': '¥19.50'}, {'rank': 5, 'title': '男孩的学习力', 'img': 'http://img3m6.ddimg.cn/38/25/28541936-1_l_9.jpg', 'website': 'http://product.dangdang.com/28541936.html', 're-rate': '100%推荐', 'five-stars-nums': '123240次', 'price': '¥19.90'}, {'rank': 6, 'title': '假如给我三天光明', 'img': 'http://img3m8.ddimg.cn/73/28/27898768-1_l_4.jpg', 'website': 'http://product.dangdang.com/27898768.html', 're-rate': '100%推荐', 'five-stars-nums': '22947次', 'price': '¥15.50'}, {'rank': 7, 'title': '傅雷家书', 'img': 'http://img3m5.ddimg.cn/36/13/29150685-1_l_9.jpg', 'website': 'http://product.dangdang.com/29150685.html', 're-rate': '100%推荐', 'five-stars-nums': '41558次', 'price': '¥15.50'}, {'rank': 8, 'title': '因为整理，人生变轻松了【当当专享收纳Tips折页卡】', 'img': 'http://img3m8.ddimg.cn/39/22/29394228-1_l_14.jpg', 'website': 'http://product.dangdang.com/29394228.html', 're-rate': '100%推荐', 'five-stars-nums': '1971次', 'price': '¥24.80'}, {'rank': 9, 'title': '人间至美：朱光潜经典散文集', 'img': 'http://img3m7.ddimg.cn/83/17/28522577-1_l_24.jpg', 'website': 'http://product.dangdang.com/28522577.html', 're-rate': '100%推荐', 'five-stars-nums': '120516次', 'price': '¥13.90'}, {'rank': 10, 'title': '给孩子的礼仪课', 'img': 'http://img3m4.ddimg.cn/84/14/28990254-1_l_10.jpg', 'website': 'http://product.dangdang.com/28990254.html', 're-rate': '100%推荐', 'five-stars-nums': '21144次', 'price': '¥19.90'}, {'rank': 11, 'title': '活着，得有点兴致(汪曾祺作品)', 'img': 'http://img3m7.ddimg.cn/11/32/29247977-1_l_17.jpg', 'website': 'http://product.dangdang.com/29247977.html', 're-rate': '100%推荐', 'five-stars-nums': '20986次', 'price': '¥18.70'}, {'rank': 12, 'title': '王阳明传', 'img': 'http://img3m3.ddimg.cn/71/8/28995983-1_l_7.jpg', 'website': 'http://product.dangdang.com/28995983.html', 're-rate': '100%推荐', 'five-stars-nums': '15170次', 'price': '¥19.90'}, {'rank': 13, 'title': '斯多葛生活哲学（在多变的世界，把握人生的方向）', 'img': 'http://img3m1.ddimg.cn/16/27/29439151-1_l_14.jpg', 'website': 'http://product.dangdang.com/29439151.html', 're-rate': '100%推荐', 'five-stars-nums': '1832次', 'price': '¥21.00'}, {'rank': 14, 'title': '这个三国史很上头（史学专家张大可妙论三国，有趣、有料、有深度！）', 'img': 'http://img3m2.ddimg.cn/0/29/29433492-1_l_2.jpg', 'website': 'http://product.dangdang.com/29433492.html', 're-rate': '100%推荐', 'five-stars-nums': '5140次', 'price': '¥22.50'}, {'rank': 15, 'title': '山月记（川端康成力荐，比芥川龙之介《罗生门》更通透，比夏目漱石《我是猫》更清醒）', 'img': 'http://img3m8.ddimg.cn/1/20/29338948-1_l_9.jpg', 'website': 'http://product.dangdang.com/29338948.html', 're-rate': '100%推荐', 'five-stars-nums': '12553次', 'price': '¥15.50'}, {'rank': 16, 'title': '我能有什么坏心思呢（爆梗“去码头整点薯条”原著漫画）当当定制超萌贴纸', 'img': 'http://img3m7.ddimg.cn/41/24/29317307-1_l_14.jpg', 'website': 'http://product.dangdang.com/29317307.html', 're-rate': '100%推荐', 'five-stars-nums': '16431次', 'price': '¥29.90'}, {'rank': 17, 'title': '万物有趣：汪曾祺散文集', 'img': 'http://img3m1.ddimg.cn/45/7/29124261-1_l_9.jpg', 'website': 'http://product.dangdang.com/29124261.html', 're-rate': '100%推荐', 'five-stars-nums': '42653次', 'price': '¥19.90'}, {'rank': 18, 'title': '可爱的中国（中小学生爱国主义课外阅读，青少年红色经典读物，响彻大地的革命颂歌）', 'img': 'http://img3m6.ddimg.cn/75/0/29435646-1_l_8.jpg', 'website': 'http://product.dangdang.com/29435646.html', 're-rate': '100%推荐', 'five-stars-nums': '1725次', 'price': '¥15.50'}]\n",
      "{'rank': 19, 'title': '乞力马扎罗的雪', 'img': 'http://img3m1.ddimg.cn/85/28/28975801-1_l_17.jpg', 'website': 'http://product.dangdang.com/28975801.html', 're-rate': '100%推荐', 'five-stars-nums': '40566次', 'price': '¥15.50'}\n",
      "[{'rank': 1, 'title': '慢一点也没关系（内卷时代的避坑指南）', 'img': 'http://img3m6.ddimg.cn/3/11/29302716-1_l_17.jpg', 'website': 'http://product.dangdang.com/29302716.html', 're-rate': '100%推荐', 'five-stars-nums': '32320次', 'price': '¥19.90'}, {'rank': 2, 'title': '高尔基成长三部曲（童年、在人间、我的大学）', 'img': 'http://img3m4.ddimg.cn/77/13/27911444-1_l_11.jpg', 'website': 'http://product.dangdang.com/27911444.html', 're-rate': '100%推荐', 'five-stars-nums': '134899次', 'price': '¥42.10'}, {'rank': 3, 'title': '空间简史(与《时间简史》《人类简史》《未来简史》并称“四大简史”)', 'img': 'http://img3m1.ddimg.cn/86/2/25546541-1_l_13.jpg', 'website': 'http://product.dangdang.com/25546541.html', 're-rate': '100%推荐', 'five-stars-nums': '132379次', 'price': '¥18.50'}, {'rank': 4, 'title': '外婆出租中', 'img': 'http://img3m4.ddimg.cn/0/32/29276874-1_l_12.jpg', 'website': 'http://product.dangdang.com/29276874.html', 're-rate': '100%推荐', 'five-stars-nums': '32024次', 'price': '¥19.50'}, {'rank': 5, 'title': '男孩的学习力', 'img': 'http://img3m6.ddimg.cn/38/25/28541936-1_l_9.jpg', 'website': 'http://product.dangdang.com/28541936.html', 're-rate': '100%推荐', 'five-stars-nums': '123240次', 'price': '¥19.90'}, {'rank': 6, 'title': '假如给我三天光明', 'img': 'http://img3m8.ddimg.cn/73/28/27898768-1_l_4.jpg', 'website': 'http://product.dangdang.com/27898768.html', 're-rate': '100%推荐', 'five-stars-nums': '22947次', 'price': '¥15.50'}, {'rank': 7, 'title': '傅雷家书', 'img': 'http://img3m5.ddimg.cn/36/13/29150685-1_l_9.jpg', 'website': 'http://product.dangdang.com/29150685.html', 're-rate': '100%推荐', 'five-stars-nums': '41558次', 'price': '¥15.50'}, {'rank': 8, 'title': '因为整理，人生变轻松了【当当专享收纳Tips折页卡】', 'img': 'http://img3m8.ddimg.cn/39/22/29394228-1_l_14.jpg', 'website': 'http://product.dangdang.com/29394228.html', 're-rate': '100%推荐', 'five-stars-nums': '1971次', 'price': '¥24.80'}, {'rank': 9, 'title': '人间至美：朱光潜经典散文集', 'img': 'http://img3m7.ddimg.cn/83/17/28522577-1_l_24.jpg', 'website': 'http://product.dangdang.com/28522577.html', 're-rate': '100%推荐', 'five-stars-nums': '120516次', 'price': '¥13.90'}, {'rank': 10, 'title': '给孩子的礼仪课', 'img': 'http://img3m4.ddimg.cn/84/14/28990254-1_l_10.jpg', 'website': 'http://product.dangdang.com/28990254.html', 're-rate': '100%推荐', 'five-stars-nums': '21144次', 'price': '¥19.90'}, {'rank': 11, 'title': '活着，得有点兴致(汪曾祺作品)', 'img': 'http://img3m7.ddimg.cn/11/32/29247977-1_l_17.jpg', 'website': 'http://product.dangdang.com/29247977.html', 're-rate': '100%推荐', 'five-stars-nums': '20986次', 'price': '¥18.70'}, {'rank': 12, 'title': '王阳明传', 'img': 'http://img3m3.ddimg.cn/71/8/28995983-1_l_7.jpg', 'website': 'http://product.dangdang.com/28995983.html', 're-rate': '100%推荐', 'five-stars-nums': '15170次', 'price': '¥19.90'}, {'rank': 13, 'title': '斯多葛生活哲学（在多变的世界，把握人生的方向）', 'img': 'http://img3m1.ddimg.cn/16/27/29439151-1_l_14.jpg', 'website': 'http://product.dangdang.com/29439151.html', 're-rate': '100%推荐', 'five-stars-nums': '1832次', 'price': '¥21.00'}, {'rank': 14, 'title': '这个三国史很上头（史学专家张大可妙论三国，有趣、有料、有深度！）', 'img': 'http://img3m2.ddimg.cn/0/29/29433492-1_l_2.jpg', 'website': 'http://product.dangdang.com/29433492.html', 're-rate': '100%推荐', 'five-stars-nums': '5140次', 'price': '¥22.50'}, {'rank': 15, 'title': '山月记（川端康成力荐，比芥川龙之介《罗生门》更通透，比夏目漱石《我是猫》更清醒）', 'img': 'http://img3m8.ddimg.cn/1/20/29338948-1_l_9.jpg', 'website': 'http://product.dangdang.com/29338948.html', 're-rate': '100%推荐', 'five-stars-nums': '12553次', 'price': '¥15.50'}, {'rank': 16, 'title': '我能有什么坏心思呢（爆梗“去码头整点薯条”原著漫画）当当定制超萌贴纸', 'img': 'http://img3m7.ddimg.cn/41/24/29317307-1_l_14.jpg', 'website': 'http://product.dangdang.com/29317307.html', 're-rate': '100%推荐', 'five-stars-nums': '16431次', 'price': '¥29.90'}, {'rank': 17, 'title': '万物有趣：汪曾祺散文集', 'img': 'http://img3m1.ddimg.cn/45/7/29124261-1_l_9.jpg', 'website': 'http://product.dangdang.com/29124261.html', 're-rate': '100%推荐', 'five-stars-nums': '42653次', 'price': '¥19.90'}, {'rank': 18, 'title': '可爱的中国（中小学生爱国主义课外阅读，青少年红色经典读物，响彻大地的革命颂歌）', 'img': 'http://img3m6.ddimg.cn/75/0/29435646-1_l_8.jpg', 'website': 'http://product.dangdang.com/29435646.html', 're-rate': '100%推荐', 'five-stars-nums': '1725次', 'price': '¥15.50'}, {'rank': 19, 'title': '乞力马扎罗的雪', 'img': 'http://img3m1.ddimg.cn/85/28/28975801-1_l_17.jpg', 'website': 'http://product.dangdang.com/28975801.html', 're-rate': '100%推荐', 'five-stars-nums': '40566次', 'price': '¥15.50'}]\n",
      "{'rank': 20, 'title': '张居正传', 'img': 'http://img3m1.ddimg.cn/87/35/29347251-1_l_1.jpg', 'website': 'http://product.dangdang.com/29347251.html', 're-rate': '100%推荐', 'five-stars-nums': '12224次', 'price': '¥15.50'}\n",
      "[{'rank': 1, 'title': '慢一点也没关系（内卷时代的避坑指南）', 'img': 'http://img3m6.ddimg.cn/3/11/29302716-1_l_17.jpg', 'website': 'http://product.dangdang.com/29302716.html', 're-rate': '100%推荐', 'five-stars-nums': '32320次', 'price': '¥19.90'}, {'rank': 2, 'title': '高尔基成长三部曲（童年、在人间、我的大学）', 'img': 'http://img3m4.ddimg.cn/77/13/27911444-1_l_11.jpg', 'website': 'http://product.dangdang.com/27911444.html', 're-rate': '100%推荐', 'five-stars-nums': '134899次', 'price': '¥42.10'}, {'rank': 3, 'title': '空间简史(与《时间简史》《人类简史》《未来简史》并称“四大简史”)', 'img': 'http://img3m1.ddimg.cn/86/2/25546541-1_l_13.jpg', 'website': 'http://product.dangdang.com/25546541.html', 're-rate': '100%推荐', 'five-stars-nums': '132379次', 'price': '¥18.50'}, {'rank': 4, 'title': '外婆出租中', 'img': 'http://img3m4.ddimg.cn/0/32/29276874-1_l_12.jpg', 'website': 'http://product.dangdang.com/29276874.html', 're-rate': '100%推荐', 'five-stars-nums': '32024次', 'price': '¥19.50'}, {'rank': 5, 'title': '男孩的学习力', 'img': 'http://img3m6.ddimg.cn/38/25/28541936-1_l_9.jpg', 'website': 'http://product.dangdang.com/28541936.html', 're-rate': '100%推荐', 'five-stars-nums': '123240次', 'price': '¥19.90'}, {'rank': 6, 'title': '假如给我三天光明', 'img': 'http://img3m8.ddimg.cn/73/28/27898768-1_l_4.jpg', 'website': 'http://product.dangdang.com/27898768.html', 're-rate': '100%推荐', 'five-stars-nums': '22947次', 'price': '¥15.50'}, {'rank': 7, 'title': '傅雷家书', 'img': 'http://img3m5.ddimg.cn/36/13/29150685-1_l_9.jpg', 'website': 'http://product.dangdang.com/29150685.html', 're-rate': '100%推荐', 'five-stars-nums': '41558次', 'price': '¥15.50'}, {'rank': 8, 'title': '因为整理，人生变轻松了【当当专享收纳Tips折页卡】', 'img': 'http://img3m8.ddimg.cn/39/22/29394228-1_l_14.jpg', 'website': 'http://product.dangdang.com/29394228.html', 're-rate': '100%推荐', 'five-stars-nums': '1971次', 'price': '¥24.80'}, {'rank': 9, 'title': '人间至美：朱光潜经典散文集', 'img': 'http://img3m7.ddimg.cn/83/17/28522577-1_l_24.jpg', 'website': 'http://product.dangdang.com/28522577.html', 're-rate': '100%推荐', 'five-stars-nums': '120516次', 'price': '¥13.90'}, {'rank': 10, 'title': '给孩子的礼仪课', 'img': 'http://img3m4.ddimg.cn/84/14/28990254-1_l_10.jpg', 'website': 'http://product.dangdang.com/28990254.html', 're-rate': '100%推荐', 'five-stars-nums': '21144次', 'price': '¥19.90'}, {'rank': 11, 'title': '活着，得有点兴致(汪曾祺作品)', 'img': 'http://img3m7.ddimg.cn/11/32/29247977-1_l_17.jpg', 'website': 'http://product.dangdang.com/29247977.html', 're-rate': '100%推荐', 'five-stars-nums': '20986次', 'price': '¥18.70'}, {'rank': 12, 'title': '王阳明传', 'img': 'http://img3m3.ddimg.cn/71/8/28995983-1_l_7.jpg', 'website': 'http://product.dangdang.com/28995983.html', 're-rate': '100%推荐', 'five-stars-nums': '15170次', 'price': '¥19.90'}, {'rank': 13, 'title': '斯多葛生活哲学（在多变的世界，把握人生的方向）', 'img': 'http://img3m1.ddimg.cn/16/27/29439151-1_l_14.jpg', 'website': 'http://product.dangdang.com/29439151.html', 're-rate': '100%推荐', 'five-stars-nums': '1832次', 'price': '¥21.00'}, {'rank': 14, 'title': '这个三国史很上头（史学专家张大可妙论三国，有趣、有料、有深度！）', 'img': 'http://img3m2.ddimg.cn/0/29/29433492-1_l_2.jpg', 'website': 'http://product.dangdang.com/29433492.html', 're-rate': '100%推荐', 'five-stars-nums': '5140次', 'price': '¥22.50'}, {'rank': 15, 'title': '山月记（川端康成力荐，比芥川龙之介《罗生门》更通透，比夏目漱石《我是猫》更清醒）', 'img': 'http://img3m8.ddimg.cn/1/20/29338948-1_l_9.jpg', 'website': 'http://product.dangdang.com/29338948.html', 're-rate': '100%推荐', 'five-stars-nums': '12553次', 'price': '¥15.50'}, {'rank': 16, 'title': '我能有什么坏心思呢（爆梗“去码头整点薯条”原著漫画）当当定制超萌贴纸', 'img': 'http://img3m7.ddimg.cn/41/24/29317307-1_l_14.jpg', 'website': 'http://product.dangdang.com/29317307.html', 're-rate': '100%推荐', 'five-stars-nums': '16431次', 'price': '¥29.90'}, {'rank': 17, 'title': '万物有趣：汪曾祺散文集', 'img': 'http://img3m1.ddimg.cn/45/7/29124261-1_l_9.jpg', 'website': 'http://product.dangdang.com/29124261.html', 're-rate': '100%推荐', 'five-stars-nums': '42653次', 'price': '¥19.90'}, {'rank': 18, 'title': '可爱的中国（中小学生爱国主义课外阅读，青少年红色经典读物，响彻大地的革命颂歌）', 'img': 'http://img3m6.ddimg.cn/75/0/29435646-1_l_8.jpg', 'website': 'http://product.dangdang.com/29435646.html', 're-rate': '100%推荐', 'five-stars-nums': '1725次', 'price': '¥15.50'}, {'rank': 19, 'title': '乞力马扎罗的雪', 'img': 'http://img3m1.ddimg.cn/85/28/28975801-1_l_17.jpg', 'website': 'http://product.dangdang.com/28975801.html', 're-rate': '100%推荐', 'five-stars-nums': '40566次', 'price': '¥15.50'}, {'rank': 20, 'title': '张居正传', 'img': 'http://img3m1.ddimg.cn/87/35/29347251-1_l_1.jpg', 'website': 'http://product.dangdang.com/29347251.html', 're-rate': '100%推荐', 'five-stars-nums': '12224次', 'price': '¥15.50'}]\n"
     ]
    }
   ],
   "source": [
    "soup=BS(info,'lxml')\n",
    "item=soup.find_all('ul',class_='bang_list clearfix bang_list_mode')\n",
    "item_=item[0]\n",
    "books=item_.find_all('li')\n",
    "book_list=[]\n",
    "#book_dict={}\n",
    "i=0\n",
    "while i<len(books):\n",
    "    #new_tuple=()\n",
    "    book_dict={}\n",
    "    divs=books[i].find_all('div')\n",
    "    div0=str(divs[0])\n",
    "    info=re.findall('\\d+',div0)\n",
    "    rank=int(info[0])\n",
    "    #website\n",
    "    website=divs[1].a['href']\n",
    "    #five_stars_nums\n",
    "    five_stars_nums=divs[6].span.string\n",
    "    #price\n",
    "    price=divs[7].p.span.string\n",
    "    #title\n",
    "    title=divs[1].a.img['alt']\n",
    "    #img\n",
    "    img=divs[1].a.img['src']\n",
    "    #author\n",
    "    #author=divs[4].a['title']\n",
    "     #re-rate\n",
    "    re_rate=divs[3].find_all('span')[2].string\n",
    "    book_dict.update({'rank':rank,'title':title,'img':img,'website':website,'re-rate':re_rate,'five-stars-nums':five_stars_nums,'price':price})\n",
    "    print(book_dict)\n",
    "    book_list.append(book_dict)\n",
    "    print(book_list)\n",
    "    #new_tuple=new_tuple('book_dict',)\n",
    "    #book_list+=new_tuple\n",
    "    i+=1"
   ]
  },
  {
   "cell_type": "code",
   "execution_count": null,
   "metadata": {},
   "outputs": [],
   "source": []
  }
 ],
 "metadata": {
  "kernelspec": {
   "display_name": "Python 3.9.12 ('summer')",
   "language": "python",
   "name": "python3"
  },
  "language_info": {
   "codemirror_mode": {
    "name": "ipython",
    "version": 3
   },
   "file_extension": ".py",
   "mimetype": "text/x-python",
   "name": "python",
   "nbconvert_exporter": "python",
   "pygments_lexer": "ipython3",
   "version": "3.9.12"
  },
  "orig_nbformat": 4,
  "vscode": {
   "interpreter": {
    "hash": "ce693702474f16f484d4863a248e27b00a4e04b59779713c45d85c6acf08c3d7"
   }
  }
 },
 "nbformat": 4,
 "nbformat_minor": 2
}
