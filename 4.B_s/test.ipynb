{
 "cells": [
  {
   "cell_type": "code",
   "execution_count": 13,
   "metadata": {},
   "outputs": [
    {
     "name": "stderr",
     "output_type": "stream",
     "text": [
      "C:\\Users\\ultrarealistic\\AppData\\Local\\Temp\\ipykernel_91824\\4032245641.py:4: DeprecationWarning: executable_path has been deprecated, please pass in a Service object\n",
      "  browser=webdriver.Edge('D:\\edgedriver_win64\\msedgedriver.exe')\n"
     ]
    }
   ],
   "source": [
    "import os\n",
    "import time\n",
    "from selenium import webdriver\n",
    "browser=webdriver.Edge('D:\\edgedriver_win64\\msedgedriver.exe')\n",
    "browser.get(\"https://www.bilibili.com/\")\n",
    "time.sleep(2)\n",
    "\n"
   ]
  },
  {
   "cell_type": "code",
   "execution_count": 14,
   "metadata": {},
   "outputs": [],
   "source": [
    "#browser.click()\n",
    "from selenium.webdriver.common.by import By\n",
    "from selenium.webdriver.common.action_chains import ActionChains as AC\n",
    "#AC(browser).click()\n",
    "#time.sleep(2)"
   ]
  },
  {
   "cell_type": "code",
   "execution_count": 15,
   "metadata": {},
   "outputs": [],
   "source": [
    "browser.find_element(By.CLASS_NAME,'nav-search-input').send_keys('蔡徐坤 篮球')\n",
    "time.sleep(2)\n",
    "#AC(browser).click()\n",
    "#time.sleep(2)"
   ]
  },
  {
   "cell_type": "code",
   "execution_count": 17,
   "metadata": {},
   "outputs": [],
   "source": [
    "button=browser.find_element(By.CLASS_NAME,'nav-search-btn')\n",
    "button.click()"
   ]
  },
  {
   "cell_type": "code",
   "execution_count": 18,
   "metadata": {},
   "outputs": [],
   "source": [
    "all_handles=browser.window_handles"
   ]
  },
  {
   "cell_type": "code",
   "execution_count": 19,
   "metadata": {},
   "outputs": [
    {
     "data": {
      "text/plain": [
       "['CDwindow-48B12B6FC6A258BAAA23D428B02084C3',\n",
       " 'CDwindow-AD2A3CECF793C417D24BED75AC8276D2']"
      ]
     },
     "execution_count": 19,
     "metadata": {},
     "output_type": "execute_result"
    }
   ],
   "source": [
    "all_handles"
   ]
  },
  {
   "cell_type": "code",
   "execution_count": null,
   "metadata": {},
   "outputs": [],
   "source": []
  }
 ],
 "metadata": {
  "kernelspec": {
   "display_name": "Python 3.9.12 ('summer')",
   "language": "python",
   "name": "python3"
  },
  "language_info": {
   "codemirror_mode": {
    "name": "ipython",
    "version": 3
   },
   "file_extension": ".py",
   "mimetype": "text/x-python",
   "name": "python",
   "nbconvert_exporter": "python",
   "pygments_lexer": "ipython3",
   "version": "3.9.12"
  },
  "orig_nbformat": 4,
  "vscode": {
   "interpreter": {
    "hash": "ce693702474f16f484d4863a248e27b00a4e04b59779713c45d85c6acf08c3d7"
   }
  }
 },
 "nbformat": 4,
 "nbformat_minor": 2
}
